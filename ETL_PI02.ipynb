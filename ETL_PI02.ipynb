{
 "cells": [
  {
   "cell_type": "code",
   "execution_count": 1,
   "metadata": {},
   "outputs": [],
   "source": [
    "#Importe de las librerías a usar\n",
    "import pandas as pd\n",
    "import matplotlib.pyplot as plt\n",
    "import numpy as np\n",
    "import statsmodels.api as sm\n",
    "from datetime import date\n",
    "import seaborn as sns"
   ]
  },
  {
   "cell_type": "code",
   "execution_count": 2,
   "metadata": {},
   "outputs": [],
   "source": [
    "#lectura del archivo homicidios.xlsx y conversión de la hoja HECHOS a dataframe\n",
    "archivo = 'homicidios.xlsx'\n",
    "\n"
   ]
  },
  {
   "cell_type": "code",
   "execution_count": 3,
   "metadata": {},
   "outputs": [
    {
     "name": "stdout",
     "output_type": "stream",
     "text": [
      "<class 'pandas.core.frame.DataFrame'>\n",
      "RangeIndex: 717 entries, 0 to 716\n",
      "Data columns (total 10 columns):\n",
      " #   Column               Non-Null Count  Dtype         \n",
      "---  ------               --------------  -----         \n",
      " 0   ID_hecho             717 non-null    object        \n",
      " 1   FECHA                717 non-null    datetime64[ns]\n",
      " 2   AAAA                 717 non-null    int64         \n",
      " 3   MM                   717 non-null    int64         \n",
      " 4   DD                   717 non-null    int64         \n",
      " 5   ROL                  717 non-null    object        \n",
      " 6   VICTIMA              717 non-null    object        \n",
      " 7   SEXO                 717 non-null    object        \n",
      " 8   EDAD                 717 non-null    object        \n",
      " 9   FECHA_FALLECIMIENTO  717 non-null    object        \n",
      "dtypes: datetime64[ns](1), int64(3), object(6)\n",
      "memory usage: 56.1+ KB\n"
     ]
    }
   ],
   "source": [
    "#Se lee la hoja VICTIMAS del archivo homicidios y se convierte en un DF\n",
    "df_victimas = pd.read_excel(archivo, sheet_name='VICTIMAS')\n",
    "\n",
    "df_victimas.info()"
   ]
  },
  {
   "cell_type": "code",
   "execution_count": 4,
   "metadata": {},
   "outputs": [],
   "source": [
    "#Se ejecuta comando para eliminar duplicados\n",
    "df_victimas=df_victimas.drop_duplicates()"
   ]
  },
  {
   "cell_type": "code",
   "execution_count": 5,
   "metadata": {},
   "outputs": [
    {
     "data": {
      "text/plain": [
       "ROL\n",
       "CONDUCTOR               330\n",
       "PEATON                  267\n",
       "PASAJERO_ACOMPAÑANTE     80\n",
       "CICLISTA                 29\n",
       "SD                       11\n",
       "Name: count, dtype: int64"
      ]
     },
     "execution_count": 5,
     "metadata": {},
     "output_type": "execute_result"
    }
   ],
   "source": [
    "#Se generaen frecuencias por variable para identificar datos atípicos\n",
    "df_victimas['ROL'].value_counts()\n"
   ]
  },
  {
   "cell_type": "code",
   "execution_count": 6,
   "metadata": {},
   "outputs": [
    {
     "data": {
      "text/plain": [
       "VICTIMA\n",
       "MOTO         303\n",
       "PEATON       267\n",
       "AUTO          94\n",
       "BICICLETA     29\n",
       "SD             9\n",
       "CARGAS         7\n",
       "PASAJEROS      5\n",
       "MOVIL          3\n",
       "Name: count, dtype: int64"
      ]
     },
     "execution_count": 6,
     "metadata": {},
     "output_type": "execute_result"
    }
   ],
   "source": [
    "df_victimas['VICTIMA'].value_counts()\n"
   ]
  },
  {
   "cell_type": "code",
   "execution_count": 7,
   "metadata": {},
   "outputs": [
    {
     "data": {
      "text/plain": [
       "SEXO\n",
       "MASCULINO    545\n",
       "FEMENINO     166\n",
       "SD             6\n",
       "Name: count, dtype: int64"
      ]
     },
     "execution_count": 7,
     "metadata": {},
     "output_type": "execute_result"
    }
   ],
   "source": [
    "df_victimas['SEXO'].value_counts()\n"
   ]
  },
  {
   "cell_type": "code",
   "execution_count": 8,
   "metadata": {},
   "outputs": [
    {
     "data": {
      "text/plain": [
       "EDAD\n",
       "SD    53\n",
       "30    28\n",
       "29    24\n",
       "23    24\n",
       "27    20\n",
       "      ..\n",
       "11     1\n",
       "13     1\n",
       "85     1\n",
       "7      1\n",
       "88     1\n",
       "Name: count, Length: 86, dtype: int64"
      ]
     },
     "execution_count": 8,
     "metadata": {},
     "output_type": "execute_result"
    }
   ],
   "source": [
    "df_victimas['EDAD'].value_counts()"
   ]
  },
  {
   "cell_type": "code",
   "execution_count": 9,
   "metadata": {},
   "outputs": [
    {
     "name": "stdout",
     "output_type": "stream",
     "text": [
      "<class 'pandas.core.frame.DataFrame'>\n",
      "Index: 664 entries, 0 to 716\n",
      "Data columns (total 10 columns):\n",
      " #   Column               Non-Null Count  Dtype         \n",
      "---  ------               --------------  -----         \n",
      " 0   ID_hecho             664 non-null    object        \n",
      " 1   FECHA                664 non-null    datetime64[ns]\n",
      " 2   AAAA                 664 non-null    int64         \n",
      " 3   MM                   664 non-null    int64         \n",
      " 4   DD                   664 non-null    int64         \n",
      " 5   ROL                  664 non-null    object        \n",
      " 6   VICTIMA              664 non-null    object        \n",
      " 7   SEXO                 664 non-null    object        \n",
      " 8   EDAD                 664 non-null    object        \n",
      " 9   FECHA_FALLECIMIENTO  664 non-null    object        \n",
      "dtypes: datetime64[ns](1), int64(3), object(6)\n",
      "memory usage: 57.1+ KB\n"
     ]
    }
   ],
   "source": [
    "#Se eliminan los registros de EDAD con valor SD\n",
    "df_victimas.drop(df_victimas[(df_victimas['EDAD'] == 'SD')].index, inplace=True)\n",
    "\n",
    "df_victimas.info()"
   ]
  },
  {
   "cell_type": "code",
   "execution_count": 10,
   "metadata": {},
   "outputs": [
    {
     "name": "stdout",
     "output_type": "stream",
     "text": [
      "<class 'pandas.core.frame.DataFrame'>\n",
      "Index: 664 entries, 0 to 716\n",
      "Data columns (total 10 columns):\n",
      " #   Column               Non-Null Count  Dtype         \n",
      "---  ------               --------------  -----         \n",
      " 0   ID_hecho             664 non-null    object        \n",
      " 1   FECHA                664 non-null    datetime64[ns]\n",
      " 2   AAAA                 664 non-null    int64         \n",
      " 3   MM                   664 non-null    int64         \n",
      " 4   DD                   664 non-null    int64         \n",
      " 5   ROL                  664 non-null    object        \n",
      " 6   VICTIMA              664 non-null    object        \n",
      " 7   SEXO                 664 non-null    object        \n",
      " 8   EDAD                 664 non-null    int32         \n",
      " 9   FECHA_FALLECIMIENTO  664 non-null    object        \n",
      "dtypes: datetime64[ns](1), int32(1), int64(3), object(5)\n",
      "memory usage: 54.5+ KB\n"
     ]
    }
   ],
   "source": [
    "#Se cambia EDAD de string a entero\n",
    "df_victimas['EDAD'] = df_victimas['EDAD'].astype(str).astype(int)\n",
    "df_victimas.info()"
   ]
  },
  {
   "cell_type": "code",
   "execution_count": 11,
   "metadata": {},
   "outputs": [
    {
     "name": "stdout",
     "output_type": "stream",
     "text": [
      "<class 'pandas.core.frame.DataFrame'>\n",
      "Index: 664 entries, 0 to 716\n",
      "Data columns (total 10 columns):\n",
      " #   Column               Non-Null Count  Dtype         \n",
      "---  ------               --------------  -----         \n",
      " 0   ID                   664 non-null    object        \n",
      " 1   FECHA                664 non-null    datetime64[ns]\n",
      " 2   AAAA                 664 non-null    int64         \n",
      " 3   MM                   664 non-null    int64         \n",
      " 4   DD                   664 non-null    int64         \n",
      " 5   ROL                  664 non-null    object        \n",
      " 6   VICTIMA              664 non-null    object        \n",
      " 7   SEXO                 664 non-null    object        \n",
      " 8   EDAD                 664 non-null    int32         \n",
      " 9   FECHA_FALLECIMIENTO  664 non-null    object        \n",
      "dtypes: datetime64[ns](1), int32(1), int64(3), object(5)\n",
      "memory usage: 54.5+ KB\n"
     ]
    }
   ],
   "source": [
    "#Se renombra la variable ID_hecho del df_victimas\n",
    "df_victimas=df_victimas.rename(columns={'ID_hecho': 'ID'})\n",
    "df_victimas.info()"
   ]
  },
  {
   "cell_type": "code",
   "execution_count": 12,
   "metadata": {},
   "outputs": [
    {
     "data": {
      "text/plain": [
       "42.16716867469879"
      ]
     },
     "execution_count": 12,
     "metadata": {},
     "output_type": "execute_result"
    }
   ],
   "source": [
    "#Se calcula el promedio de edad de las víctimas\n",
    "df_victimas.EDAD.mean()"
   ]
  },
  {
   "cell_type": "code",
   "execution_count": 13,
   "metadata": {},
   "outputs": [
    {
     "name": "stdout",
     "output_type": "stream",
     "text": [
      "<class 'pandas.core.frame.DataFrame'>\n",
      "RangeIndex: 696 entries, 0 to 695\n",
      "Data columns (total 21 columns):\n",
      " #   Column                 Non-Null Count  Dtype         \n",
      "---  ------                 --------------  -----         \n",
      " 0   ID                     696 non-null    object        \n",
      " 1   N_VICTIMAS             696 non-null    int64         \n",
      " 2   FECHA                  696 non-null    datetime64[ns]\n",
      " 3   AAAA                   696 non-null    int64         \n",
      " 4   MM                     696 non-null    int64         \n",
      " 5   DD                     696 non-null    int64         \n",
      " 6   HORA                   696 non-null    object        \n",
      " 7   HH                     696 non-null    object        \n",
      " 8   LUGAR_DEL_HECHO        696 non-null    object        \n",
      " 9   TIPO_DE_CALLE          696 non-null    object        \n",
      " 10  Calle                  695 non-null    object        \n",
      " 11  Altura                 129 non-null    float64       \n",
      " 12  Cruce                  525 non-null    object        \n",
      " 13  Dirección Normalizada  688 non-null    object        \n",
      " 14  COMUNA                 696 non-null    int64         \n",
      " 15  XY (CABA)              696 non-null    object        \n",
      " 16  pos x                  696 non-null    object        \n",
      " 17  pos y                  696 non-null    object        \n",
      " 18  PARTICIPANTES          696 non-null    object        \n",
      " 19  VICTIMA                696 non-null    object        \n",
      " 20  ACUSADO                696 non-null    object        \n",
      "dtypes: datetime64[ns](1), float64(1), int64(5), object(14)\n",
      "memory usage: 114.3+ KB\n"
     ]
    }
   ],
   "source": [
    "#Se lee la hoja HECHOS del archivo homicidios y se convierte en DF\n",
    "df_hechos = pd.read_excel(archivo, sheet_name='HECHOS')\n",
    "\n",
    "df_hechos.info()"
   ]
  },
  {
   "cell_type": "code",
   "execution_count": 14,
   "metadata": {},
   "outputs": [],
   "source": [
    "#Se eliminan columnas innecesarias\n",
    "df_hechos.drop(['FECHA','AAAA','MM','DD','LUGAR_DEL_HECHO','Calle','Altura','Cruce','VICTIMA'], axis=1, inplace=True)"
   ]
  },
  {
   "cell_type": "code",
   "execution_count": 15,
   "metadata": {},
   "outputs": [
    {
     "name": "stdout",
     "output_type": "stream",
     "text": [
      "<class 'pandas.core.frame.DataFrame'>\n",
      "RangeIndex: 696 entries, 0 to 695\n",
      "Data columns (total 12 columns):\n",
      " #   Column                 Non-Null Count  Dtype \n",
      "---  ------                 --------------  ----- \n",
      " 0   ID                     696 non-null    object\n",
      " 1   N_VICTIMAS             696 non-null    int64 \n",
      " 2   HORA                   696 non-null    object\n",
      " 3   HH                     696 non-null    object\n",
      " 4   TIPO_DE_CALLE          696 non-null    object\n",
      " 5   Dirección Normalizada  688 non-null    object\n",
      " 6   COMUNA                 696 non-null    int64 \n",
      " 7   XY (CABA)              696 non-null    object\n",
      " 8   pos x                  696 non-null    object\n",
      " 9   pos y                  696 non-null    object\n",
      " 10  PARTICIPANTES          696 non-null    object\n",
      " 11  ACUSADO                696 non-null    object\n",
      "dtypes: int64(2), object(10)\n",
      "memory usage: 65.4+ KB\n"
     ]
    }
   ],
   "source": [
    "df_hechos.info()"
   ]
  },
  {
   "cell_type": "code",
   "execution_count": 16,
   "metadata": {},
   "outputs": [
    {
     "name": "stdout",
     "output_type": "stream",
     "text": [
      "<class 'pandas.core.frame.DataFrame'>\n",
      "RangeIndex: 696 entries, 0 to 695\n",
      "Data columns (total 12 columns):\n",
      " #   Column                 Non-Null Count  Dtype \n",
      "---  ------                 --------------  ----- \n",
      " 0   ID                     696 non-null    object\n",
      " 1   N_VICTIMAS             696 non-null    int64 \n",
      " 2   HORA                   696 non-null    object\n",
      " 3   HH                     696 non-null    object\n",
      " 4   TIPO_DE_CALLE          696 non-null    object\n",
      " 5   Dirección Normalizada  688 non-null    object\n",
      " 6   COMUNA                 696 non-null    int64 \n",
      " 7   XY (CABA)              696 non-null    object\n",
      " 8   pos x                  696 non-null    object\n",
      " 9   pos y                  696 non-null    object\n",
      " 10  PARTICIPANTES          696 non-null    object\n",
      " 11  ACUSADO                696 non-null    object\n",
      "dtypes: int64(2), object(10)\n",
      "memory usage: 65.4+ KB\n"
     ]
    }
   ],
   "source": [
    "#Se ejecuta comando para eliminar duplicados\n",
    "df_hechos=df_hechos.drop_duplicates()\n",
    "\n",
    "df_hechos.info()"
   ]
  },
  {
   "cell_type": "code",
   "execution_count": 17,
   "metadata": {},
   "outputs": [],
   "source": [
    "#Se unen las tablas hechos y victimas\n",
    "victimas_total = pd.merge(df_victimas, df_hechos, how='left', on='ID')"
   ]
  },
  {
   "cell_type": "code",
   "execution_count": 18,
   "metadata": {},
   "outputs": [
    {
     "name": "stdout",
     "output_type": "stream",
     "text": [
      "<class 'pandas.core.frame.DataFrame'>\n",
      "RangeIndex: 664 entries, 0 to 663\n",
      "Data columns (total 21 columns):\n",
      " #   Column                 Non-Null Count  Dtype         \n",
      "---  ------                 --------------  -----         \n",
      " 0   ID                     664 non-null    object        \n",
      " 1   FECHA                  664 non-null    datetime64[ns]\n",
      " 2   AAAA                   664 non-null    int64         \n",
      " 3   MM                     664 non-null    int64         \n",
      " 4   DD                     664 non-null    int64         \n",
      " 5   ROL                    664 non-null    object        \n",
      " 6   VICTIMA                664 non-null    object        \n",
      " 7   SEXO                   664 non-null    object        \n",
      " 8   EDAD                   664 non-null    int32         \n",
      " 9   FECHA_FALLECIMIENTO    664 non-null    object        \n",
      " 10  N_VICTIMAS             664 non-null    int64         \n",
      " 11  HORA                   664 non-null    object        \n",
      " 12  HH                     664 non-null    object        \n",
      " 13  TIPO_DE_CALLE          664 non-null    object        \n",
      " 14  Dirección Normalizada  658 non-null    object        \n",
      " 15  COMUNA                 664 non-null    int64         \n",
      " 16  XY (CABA)              664 non-null    object        \n",
      " 17  pos x                  664 non-null    object        \n",
      " 18  pos y                  664 non-null    object        \n",
      " 19  PARTICIPANTES          664 non-null    object        \n",
      " 20  ACUSADO                664 non-null    object        \n",
      "dtypes: datetime64[ns](1), int32(1), int64(5), object(14)\n",
      "memory usage: 106.5+ KB\n"
     ]
    }
   ],
   "source": [
    "victimas_total.info()"
   ]
  },
  {
   "cell_type": "code",
   "execution_count": 19,
   "metadata": {},
   "outputs": [],
   "source": [
    "#Guardamos el DF en un archivo de excel\n",
    "victimas_total= victimas_total.to_excel(\"total_victimas.xlsx\", index=False)"
   ]
  }
 ],
 "metadata": {
  "kernelspec": {
   "display_name": "Python 3",
   "language": "python",
   "name": "python3"
  },
  "language_info": {
   "codemirror_mode": {
    "name": "ipython",
    "version": 3
   },
   "file_extension": ".py",
   "mimetype": "text/x-python",
   "name": "python",
   "nbconvert_exporter": "python",
   "pygments_lexer": "ipython3",
   "version": "3.11.2"
  },
  "orig_nbformat": 4
 },
 "nbformat": 4,
 "nbformat_minor": 2
}
